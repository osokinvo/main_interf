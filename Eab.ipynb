{
 "cells": [
  {
   "cell_type": "code",
   "execution_count": 18,
   "metadata": {},
   "outputs": [],
   "source": [
    "import colour\n",
    "import numpy"
   ]
  },
  {
   "cell_type": "code",
   "execution_count": 1,
   "metadata": {},
   "outputs": [],
   "source": [
    "def func(rgb1, rgb2):\n",
    "    L1, a1, b1 = colour.XYZ_to_Lab(colour.sRGB_to_XYZ(rgb1))\n",
    "    L2, a2, b2 = colour.XYZ_to_Lab(colour.sRGB_to_XYZ(rgb2))\n",
    "    return ((L2-L1)**2+(a2-a1)**2+(b2-b1)**2)**0.5\n"
   ]
  },
  {
   "cell_type": "code",
   "execution_count": 12,
   "metadata": {},
   "outputs": [],
   "source": [
    "RGB_col = [1,1,1]\n",
    "red_col = [1,0,0]\n",
    "dark_red_col = [0.9, 0,0]\n",
    "Xn,Yn,Zn = colour.sRGB_to_XYZ(RGB_col)\n",
    "X, Y, Z = colour.sRGB_to_XYZ(red_col)\n",
    "X1, Y1, Z1 = colour.sRGB_to_XYZ(dark_red_col)"
   ]
  },
  {
   "cell_type": "code",
   "execution_count": 17,
   "metadata": {},
   "outputs": [
    {
     "data": {
      "text/plain": [
       "numpy.ndarray"
      ]
     },
     "execution_count": 17,
     "metadata": {},
     "output_type": "execute_result"
    }
   ],
   "source": [
    "type(colour.XYZ_to_Lab([X,Y,Z]))"
   ]
  },
  {
   "cell_type": "code",
   "execution_count": 13,
   "metadata": {},
   "outputs": [
    {
     "data": {
      "text/plain": [
       "(53.232881785842451, 80.105327090201797, 67.222781945436211)"
      ]
     },
     "execution_count": 13,
     "metadata": {},
     "output_type": "execute_result"
    }
   ],
   "source": [
    "L=116*func(Y/Yn)-16\n",
    "a=500*(func(X/Xn)-func(Y/Yn))\n",
    "b=200*(func(Y/Yn)-func(Z/Zn))\n",
    "L1=116*func(Y1/Yn)-16\n",
    "a1=500*(func(X1/Xn)-func(Y1/Yn))\n",
    "b1=200*(func(Y1/Yn)-func(Z1/Zn))\n",
    "L,a,b"
   ]
  },
  {
   "cell_type": "code",
   "execution_count": 14,
   "metadata": {},
   "outputs": [
    {
     "data": {
      "text/plain": [
       "9.6039040787254422"
      ]
     },
     "execution_count": 14,
     "metadata": {},
     "output_type": "execute_result"
    }
   ],
   "source": [
    "dEab = ((L-L1)**2+(a-a1)**2+(b-b1)**2)**0.5\n",
    "dEab"
   ]
  }
 ],
 "metadata": {
  "kernelspec": {
   "display_name": "Python 3",
   "language": "python",
   "name": "python3"
  },
  "language_info": {
   "codemirror_mode": {
    "name": "ipython",
    "version": 3
   },
   "file_extension": ".py",
   "mimetype": "text/x-python",
   "name": "python",
   "nbconvert_exporter": "python",
   "pygments_lexer": "ipython3",
   "version": "3.8.10 (default, Nov 14 2022, 12:59:47) \n[GCC 9.4.0]"
  },
  "orig_nbformat": 4,
  "vscode": {
   "interpreter": {
    "hash": "916dbcbb3f70747c44a77c7bcd40155683ae19c65e1c03b4aa3499c5328201f1"
   }
  }
 },
 "nbformat": 4,
 "nbformat_minor": 2
}
